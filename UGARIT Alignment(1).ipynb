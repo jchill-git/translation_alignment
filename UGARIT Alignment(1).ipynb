{
 "cells": [
  {
   "cell_type": "code",
   "execution_count": 1,
   "metadata": {},
   "outputs": [
    {
     "name": "stderr",
     "output_type": "stream",
     "text": [
      "C:\\Users\\josep\\miniforge3\\envs\\study\\Lib\\site-packages\\tqdm\\auto.py:21: TqdmWarning: IProgress not found. Please update jupyter and ipywidgets. See https://ipywidgets.readthedocs.io/en/stable/user_install.html\n",
      "  from .autonotebook import tqdm as notebook_tqdm\n"
     ]
    }
   ],
   "source": [
    "import torch\n",
    "import transformers\n",
    "import itertools\n",
    "from nltk import word_tokenize\n",
    "import numpy as np\n",
    "\n",
    "def align_sentence(src,\n",
    "                   tgt,\n",
    "                   model_name='UGARIT/grc-alignment',\n",
    "                   match=\"softmax\", # possible values [\"softmax\", \"argmax\"]\n",
    "                   align_layer=8):\n",
    "    \n",
    "    # Load the model\n",
    "    model = transformers.XLMRobertaForMaskedLM.from_pretrained(model_name)\n",
    "    tokenizer = transformers.XLMRobertaTokenizer.from_pretrained(model_name)\n",
    "\n",
    "    # tokenizing, first phase\n",
    "    sent_src = word_tokenize(src.strip())  \n",
    "    sent_tgt = word_tokenize(tgt.strip())  \n",
    "\n",
    "    token_src = [tokenizer.tokenize(word) for word in sent_src]\n",
    "    token_tgt = [tokenizer.tokenize(word) for word in sent_tgt]\n",
    "    \n",
    "    wid_src = [tokenizer.convert_tokens_to_ids(x) for x in token_src]\n",
    "    wid_tgt = [tokenizer.convert_tokens_to_ids(x) for x in token_tgt]\n",
    "\n",
    "    ids_src = tokenizer.prepare_for_model(list(itertools.chain(*wid_src)), return_tensors='pt',\n",
    "                                          model_max_length=tokenizer.model_max_length, truncation=True)['input_ids']\n",
    "    ids_tgt = tokenizer.prepare_for_model(list(itertools.chain(*wid_tgt)), return_tensors='pt',\n",
    "                                          truncation=True, model_max_length=tokenizer.model_max_length)['input_ids']\n",
    "\n",
    "    sub2word_map_src = []\n",
    "    for i, word_list in enumerate(token_src):\n",
    "        sub2word_map_src += [i for x in word_list]\n",
    "\n",
    "    sub2word_map_tgt = []\n",
    "    for i, word_list in enumerate(token_tgt):\n",
    "        sub2word_map_tgt += [i for x in word_list]\n",
    "\n",
    "    # alignment\n",
    "    threshold = 1e-3\n",
    "    model.eval()\n",
    "\n",
    "    with torch.no_grad():\n",
    "        out_src = model(ids_src.unsqueeze(0), output_hidden_states=True)[\"hidden_states\"][align_layer][0, 1:-1]\n",
    "        out_tgt = model(ids_tgt.unsqueeze(0), output_hidden_states=True)[\"hidden_states\"][align_layer][0, 1:-1]\n",
    "        # Create Similarity Matrix With Dot Product\n",
    "        sim_matrix = torch.matmul(out_src, out_tgt.transpose(-1, -2))  # dot_prod\n",
    "\n",
    "        # Extraction Algorithms\n",
    "        if match == \"softmax\":\n",
    "            softmax_srctgt = torch.nn.Softmax(dim=-1)(sim_matrix)\n",
    "            softmax_tgtsrc = torch.nn.Softmax(dim=-2)(sim_matrix)\n",
    "            intersection = (softmax_srctgt > threshold) * (softmax_tgtsrc > threshold)\n",
    "        else:\n",
    "            sim_matrix = cosine_similarity(out_src, out_tgt)  # cosine_similarity\n",
    "            m, n = sim_matrix.shape\n",
    "            forward = np.eye(n)[sim_matrix.argmax(axis=1)]  # m x n\n",
    "            backward = np.eye(m)[sim_matrix.argmax(axis=0)]  # n x m\n",
    "            intersection = torch.from_numpy(forward * backward.transpose())\n",
    "\n",
    "    align_subwords = torch.nonzero(intersection, as_tuple=False)\n",
    "\n",
    "    # Extract alignments\n",
    "    alignment = set()\n",
    "    for i, j in align_subwords:\n",
    "        alignment.add((sub2word_map_src[i], sub2word_map_tgt[j]))\n",
    "    return {\"src\": sent_src, \"tgt\": sent_tgt, \"alignment\": list(alignment)} "
   ]
  },
  {
   "cell_type": "code",
   "execution_count": 2,
   "metadata": {},
   "outputs": [
    {
     "name": "stderr",
     "output_type": "stream",
     "text": [
      "Some weights of the model checkpoint at UGARIT/grc-alignment were not used when initializing XLMRobertaForMaskedLM: ['psi_cls.bias', 'psi_cls.decoder.weight', 'psi_cls.transform.bias', 'psi_cls.transform.weight']\n",
      "- This IS expected if you are initializing XLMRobertaForMaskedLM from the checkpoint of a model trained on another task or with another architecture (e.g. initializing a BertForSequenceClassification model from a BertForPreTraining model).\n",
      "- This IS NOT expected if you are initializing XLMRobertaForMaskedLM from the checkpoint of a model that you expect to be exactly identical (initializing a BertForSequenceClassification model from a BertForSequenceClassification model).\n"
     ]
    },
    {
     "data": {
      "text/plain": [
       "{'src': ['Λητοῦς', 'καὶ', 'Διὸς', 'υἱός'],\n",
       " 'tgt': ['The', 'son', 'of', 'Leto', 'and', 'Zeus'],\n",
       " 'alignment': [(3, 1), (0, 3), (2, 5), (1, 4)]}"
      ]
     },
     "execution_count": 2,
     "metadata": {},
     "output_type": "execute_result"
    }
   ],
   "source": [
    "src = 'Λητοῦς καὶ Διὸς υἱός'\n",
    "tgt = 'The son of Leto and Zeus'\n",
    "\n",
    "align_sentence(src, tgt) # Softmax is default"
   ]
  },
  {
   "cell_type": "code",
   "execution_count": 3,
   "metadata": {},
   "outputs": [
    {
     "name": "stderr",
     "output_type": "stream",
     "text": [
      "Some weights of the model checkpoint at UGARIT/grc-alignment were not used when initializing XLMRobertaForMaskedLM: ['psi_cls.bias', 'psi_cls.decoder.weight', 'psi_cls.transform.bias', 'psi_cls.transform.weight']\n",
      "- This IS expected if you are initializing XLMRobertaForMaskedLM from the checkpoint of a model trained on another task or with another architecture (e.g. initializing a BertForSequenceClassification model from a BertForPreTraining model).\n",
      "- This IS NOT expected if you are initializing XLMRobertaForMaskedLM from the checkpoint of a model that you expect to be exactly identical (initializing a BertForSequenceClassification model from a BertForSequenceClassification model).\n"
     ]
    },
    {
     "ename": "NameError",
     "evalue": "name 'cosine_similarity' is not defined",
     "output_type": "error",
     "traceback": [
      "\u001b[1;31m---------------------------------------------------------------------------\u001b[0m",
      "\u001b[1;31mNameError\u001b[0m                                 Traceback (most recent call last)",
      "Cell \u001b[1;32mIn[3], line 1\u001b[0m\n\u001b[1;32m----> 1\u001b[0m \u001b[43malign_sentence\u001b[49m\u001b[43m(\u001b[49m\u001b[43msrc\u001b[49m\u001b[43m,\u001b[49m\u001b[43m \u001b[49m\u001b[43mtgt\u001b[49m\u001b[43m,\u001b[49m\u001b[43m \u001b[49m\u001b[43mmatch\u001b[49m\u001b[38;5;241;43m=\u001b[39;49m\u001b[38;5;124;43m\"\u001b[39;49m\u001b[38;5;124;43margmax\u001b[39;49m\u001b[38;5;124;43m\"\u001b[39;49m\u001b[43m)\u001b[49m \u001b[38;5;66;03m# argmax\u001b[39;00m\n",
      "Cell \u001b[1;32mIn[1], line 56\u001b[0m, in \u001b[0;36malign_sentence\u001b[1;34m(src, tgt, model_name, match, align_layer)\u001b[0m\n\u001b[0;32m     54\u001b[0m     intersection \u001b[38;5;241m=\u001b[39m (softmax_srctgt \u001b[38;5;241m>\u001b[39m threshold) \u001b[38;5;241m*\u001b[39m (softmax_tgtsrc \u001b[38;5;241m>\u001b[39m threshold)\n\u001b[0;32m     55\u001b[0m \u001b[38;5;28;01melse\u001b[39;00m:\n\u001b[1;32m---> 56\u001b[0m     sim_matrix \u001b[38;5;241m=\u001b[39m \u001b[43mcosine_similarity\u001b[49m(out_src, out_tgt)  \u001b[38;5;66;03m# cosine_similarity\u001b[39;00m\n\u001b[0;32m     57\u001b[0m     m, n \u001b[38;5;241m=\u001b[39m sim_matrix\u001b[38;5;241m.\u001b[39mshape\n\u001b[0;32m     58\u001b[0m     forward \u001b[38;5;241m=\u001b[39m np\u001b[38;5;241m.\u001b[39meye(n)[sim_matrix\u001b[38;5;241m.\u001b[39margmax(axis\u001b[38;5;241m=\u001b[39m\u001b[38;5;241m1\u001b[39m)]  \u001b[38;5;66;03m# m x n\u001b[39;00m\n",
      "\u001b[1;31mNameError\u001b[0m: name 'cosine_similarity' is not defined"
     ]
    }
   ],
   "source": [
    "align_sentence(src, tgt, match=\"argmax\") # argmax"
   ]
  },
  {
   "cell_type": "code",
   "execution_count": null,
   "metadata": {},
   "outputs": [],
   "source": []
  }
 ],
 "metadata": {
  "kernelspec": {
   "display_name": "Python 3 (ipykernel)",
   "language": "python",
   "name": "python3"
  },
  "language_info": {
   "codemirror_mode": {
    "name": "ipython",
    "version": 3
   },
   "file_extension": ".py",
   "mimetype": "text/x-python",
   "name": "python",
   "nbconvert_exporter": "python",
   "pygments_lexer": "ipython3",
   "version": "3.12.2"
  }
 },
 "nbformat": 4,
 "nbformat_minor": 4
}
