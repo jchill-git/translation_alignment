{
 "cells": [
  {
   "cell_type": "code",
   "execution_count": 31,
   "metadata": {},
   "outputs": [],
   "source": [
    "import pandas as pd\n",
    "import numpy as np\n",
    "from Levenshtein import distance"
   ]
  },
  {
   "cell_type": "code",
   "execution_count": 32,
   "metadata": {},
   "outputs": [
    {
     "data": {
      "text/plain": [
       "4"
      ]
     },
     "execution_count": 32,
     "metadata": {},
     "output_type": "execute_result"
    }
   ],
   "source": [
    "distance(\"this\",\"doff\")"
   ]
  },
  {
   "cell_type": "code",
   "execution_count": 33,
   "metadata": {},
   "outputs": [
    {
     "data": {
      "text/plain": [
       "6"
      ]
     },
     "execution_count": 33,
     "metadata": {},
     "output_type": "execute_result"
    }
   ],
   "source": [
    "distance(\"this\",\"this is my\")"
   ]
  },
  {
   "cell_type": "code",
   "execution_count": 34,
   "metadata": {},
   "outputs": [
    {
     "data": {
      "text/plain": [
       "6"
      ]
     },
     "execution_count": 34,
     "metadata": {},
     "output_type": "execute_result"
    }
   ],
   "source": [
    "distance(\"this is my\",\"this\")"
   ]
  },
  {
   "cell_type": "code",
   "execution_count": 35,
   "metadata": {},
   "outputs": [],
   "source": [
    "def score(string1, string2):\n",
    "    dist = distance(string1, string2)\n",
    "    cor_len = len(string2)\n",
    "    if dist==0:\n",
    "        return 10\n",
    "    elif dist> cor_len:\n",
    "        return 0\n",
    "    else:\n",
    "        return (1-(dist/cor_len))*10"
   ]
  },
  {
   "cell_type": "code",
   "execution_count": 99,
   "metadata": {},
   "outputs": [
    {
     "data": {
      "text/plain": [
       "8.88888888888889"
      ]
     },
     "execution_count": 99,
     "metadata": {},
     "output_type": "execute_result"
    }
   ],
   "source": [
    "score(\"habistade\",\"habistada\")"
   ]
  },
  {
   "cell_type": "code",
   "execution_count": 59,
   "metadata": {},
   "outputs": [],
   "source": [
    "verbs=[\"loen\",\"loed\",\"loeb\",\"loeme\",\"loete\", \"loevad\", \"lugesin\", \"lugesid\", 'luges', \"lugesime\", \"lugesite\", \"lugesid\"]"
   ]
  },
  {
   "cell_type": "code",
   "execution_count": 60,
   "metadata": {},
   "outputs": [
    {
     "name": "stdout",
     "output_type": "stream",
     "text": [
      "loen loete 6.0\n",
      "loed loete 6.0\n",
      "loeb loete 6.0\n",
      "loeme loete 8.0\n",
      "loete loete 10\n",
      "loevad loete 4.0\n",
      "lugesin loete 0.0\n",
      "lugesid loete 0.0\n",
      "luges loete 1.9999999999999996\n",
      "lugesime loete 0.0\n",
      "lugesite loete 1.9999999999999996\n",
      "lugesid loete 0.0\n"
     ]
    }
   ],
   "source": [
    "for verb in verbs:\n",
    "    print(verb,'loete',score(verb,'loete'))"
   ]
  },
  {
   "cell_type": "code",
   "execution_count": null,
   "metadata": {},
   "outputs": [],
   "source": []
  }
 ],
 "metadata": {
  "kernelspec": {
   "display_name": "Python 3 (ipykernel)",
   "language": "python",
   "name": "python3"
  },
  "language_info": {
   "codemirror_mode": {
    "name": "ipython",
    "version": 3
   },
   "file_extension": ".py",
   "mimetype": "text/x-python",
   "name": "python",
   "nbconvert_exporter": "python",
   "pygments_lexer": "ipython3",
   "version": "3.12.2"
  }
 },
 "nbformat": 4,
 "nbformat_minor": 4
}
